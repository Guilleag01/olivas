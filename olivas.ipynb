{
 "cells": [
  {
   "cell_type": "code",
   "execution_count": 156,
   "metadata": {},
   "outputs": [],
   "source": [
    "# import scipy\n",
    "from math import ceil\n",
    "from scipy.optimize import minimize"
   ]
  },
  {
   "cell_type": "markdown",
   "metadata": {},
   "source": [
    "Declaracion de variables"
   ]
  },
  {
   "cell_type": "code",
   "execution_count": 157,
   "metadata": {},
   "outputs": [],
   "source": [
    "# DATOS GENERALES\n",
    "total_campaña: int = 25000 # Kg\n",
    "total_aceite:  int = 18000 # L\n",
    "\n",
    "# PERSONAL\n",
    "capacidad_recogida:  int = 495 # Kg/persona-dia\n",
    "sueldo:  int = 120 # €/persona-dia 120\n",
    "alojamiento:  int = 96 # €/dia-habitacion \n",
    "manutencion:  int = 54 # €/persona-dia\n",
    "\n",
    "# GASTOS FIJOS\n",
    "gastos_fijos:  int = 2600 # €/dia\n",
    "\n",
    "# INSTALACIONES DEL TRUJAL\n",
    "capacidad_prensa:  int = 1200 # Kg/dia\n",
    "capacidad_embotelladora:  int = 1920 # L/dia\n",
    "\n",
    "# EXTRAS\n",
    "num_prensas:  int = 1\n",
    "num_embotelladoras:  int = 1\n",
    "max_prensas:  int = 5\n",
    "max_embotelladoras:  int = 6\n",
    "prensa_adicional:  int = 8000 # €/campaña\n",
    "embotelladora_adicional:  int = 9600 # €/campaña\n",
    "personas_maquina:  int = 2\n",
    "max_personas:  int = 10"
   ]
  },
  {
   "cell_type": "markdown",
   "metadata": {},
   "source": [
    "Funcion a optimizar"
   ]
  },
  {
   "cell_type": "code",
   "execution_count": 158,
   "metadata": {},
   "outputs": [],
   "source": [
    "def opt_func(x: list[int]) -> tuple[float, float]: # (coste, plazo)\n",
    "    personas: int = int(x[0])\n",
    "    prensas: int = int(x[1])\n",
    "    embotelladoras: int = int(x[2])\n",
    "\n",
    "    # RECOGIDA\n",
    "    dias_recogida = ceil(total_campaña / (personas + capacidad_recogida))\n",
    "    gastos_recogida = dias_recogida * (sueldo * personas + (ceil(personas / 2) * 2) + manutencion * personas)\n",
    "\n",
    "    # PRENSADO\n",
    "    dias_prensado = ceil(total_aceite / ((1 + prensas) * capacidad_prensa))\n",
    "    gastos_prensado = dias_prensado * (sueldo * personas + (ceil(personas / 2) * 2) + manutencion * personas) + (prensas - 1) * prensa_adicional\n",
    "\n",
    "    # EMBOTELLADO\n",
    "    dias_embotellado = ceil(total_aceite / ((1 + embotelladoras) * capacidad_embotelladora))\n",
    "    gastos_embotellado = dias_embotellado * (sueldo * personas + (ceil(personas / 2) * 2) + manutencion * personas) + (embotelladoras - 1) * embotelladora_adicional\n",
    "\n",
    "    plazo = dias_recogida + dias_prensado + dias_embotellado\n",
    "\n",
    "    # EXTRAS\n",
    "    gastos_extra = gastos_fijos * plazo\n",
    "\n",
    "    coste = gastos_recogida + gastos_prensado + gastos_embotellado + gastos_extra\n",
    "\n",
    "    return (coste, plazo)\n"
   ]
  },
  {
   "cell_type": "markdown",
   "metadata": {},
   "source": [
    "Limitaciones"
   ]
  },
  {
   "cell_type": "code",
   "execution_count": 159,
   "metadata": {},
   "outputs": [],
   "source": [
    "# Constraints\n",
    "def const1(x: list[int]) -> float:\n",
    "    return max_personas - x[0]\n",
    "\n",
    "def const2(x: list[int]) -> float:\n",
    "    return max_prensas - x[1]\n",
    "\n",
    "def const3(x: list[int]) -> float:\n",
    "    return max_embotelladoras - x[2]\n",
    "\n",
    "def const4(x: list[int]) -> float:\n",
    "    return x[0] - ((x[1] + 1) + (x[2] + 1)) * personas_maquina\n",
    "\n",
    "# def constInt1(x: list[int]) -> float:\n",
    "#     return x[0] - int(x[0])\n",
    "\n",
    "# def constInt2(x: list[int]) -> float:\n",
    "#     return x[1] - int(x[1])\n",
    "\n",
    "# def constInt3(x: list[int]) -> float:\n",
    "#     return x[2] - int(x[2])\n",
    "\n",
    "con1: dict = {'type': 'ineq', 'fun': const1}\n",
    "con2: dict = {'type': 'ineq', 'fun': const2}\n",
    "con3: dict = {'type': 'ineq', 'fun': const3}\n",
    "con4: dict = {'type': 'ineq', 'fun': const4}\n",
    "# conInt1: dict = {'type': 'eq', 'fun': constInt1}\n",
    "# conInt2: dict = {'type': 'eq', 'fun': constInt2}\n",
    "# conInt3: dict = {'type': 'eq', 'fun': constInt3}\n",
    "\n",
    "cons: list[dict] = [con1, con2, con3, con4] # , conInt1, conInt2, conInt3]\n",
    "\n",
    "bnds = [(1.0, max_personas), (0.0, max_prensas - 1), (0.0, max_embotelladoras - 1)]\n"
   ]
  },
  {
   "cell_type": "markdown",
   "metadata": {},
   "source": [
    "Optimizacion y resultados"
   ]
  },
  {
   "cell_type": "code",
   "execution_count": 160,
   "metadata": {},
   "outputs": [
    {
     "name": "stdout",
     "output_type": "stream",
     "text": [
      "Se relizará en 76 dias costando 233200 €\n",
      "Se contratarán 4 personas y se utilizarán 0 prensas extra y 0 embotelladoras extra\n"
     ]
    }
   ],
   "source": [
    "res = minimize(lambda x: opt_func(x)[0], [1, 0, 0], method='COBYLA', constraints=cons, bounds=bnds)\n",
    "(coste, dias) = opt_func(res.x)\n",
    "\n",
    "print(\"Se relizará en \" + str(dias) + \" dias costando \" + str(coste) + \" €\")\n",
    "print(\"Se contratarán \" + str(int(res.x[0])) + \" personas y se utilizarán \" + str(int(res.x[1])) + \" prensas extra y \" + str(int(res.x[2])) + \" embotelladoras extra\")"
   ]
  },
  {
   "cell_type": "code",
   "execution_count": 161,
   "metadata": {},
   "outputs": [],
   "source": [
    "def check_consts(consts: list[dict], x) -> bool:\n",
    "    for const in consts:\n",
    "        if const['type'] == 'eq':\n",
    "            if const['fun'](x) != 0:\n",
    "                return False\n",
    "        elif const['type'] == 'ineq':\n",
    "            if const['fun'](x) < 0:\n",
    "                return False\n",
    "    return True"
   ]
  },
  {
   "cell_type": "code",
   "execution_count": 162,
   "metadata": {},
   "outputs": [
    {
     "name": "stdout",
     "output_type": "stream",
     "text": [
      "Se relizará en 76 dias costando 233200 €\n",
      "Se contratarán 4 personas y se utilizarán 0 prensas extra y 0 embotelladoras extra\n"
     ]
    }
   ],
   "source": [
    "# Busqueda mediante fuerza bruta\n",
    "\n",
    "min_coste = float(\"inf\")\n",
    "plazo = 0\n",
    "personas = 0\n",
    "prensas = 0\n",
    "embotelladoras = 0\n",
    "for i in range(1, max_personas):\n",
    "    for j in range(0, max_prensas):\n",
    "        for k in range(0, max_embotelladoras):\n",
    "            x = [i, j , k]\n",
    "            if not check_consts(cons, x):\n",
    "                break\n",
    "            (c, p) = opt_func(x)\n",
    "            if c < min_coste or (c == min_coste and p < plazo):\n",
    "                min_coste = c\n",
    "                plazo = p\n",
    "                personas = i\n",
    "                prensas = j\n",
    "                embotelladoras = k\n",
    "\n",
    "print(\"Se relizará en \" + str(plazo) + \" dias costando \" + str(min_coste) + \" €\")\n",
    "print(\"Se contratarán \" + str(personas) + \" personas y se utilizarán \" + str(prensas) + \" prensas extra y \" + str(embotelladoras) + \" embotelladoras extra\")\n"
   ]
  }
 ],
 "metadata": {
  "kernelspec": {
   "display_name": ".env",
   "language": "python",
   "name": "python3"
  },
  "language_info": {
   "codemirror_mode": {
    "name": "ipython",
    "version": 3
   },
   "file_extension": ".py",
   "mimetype": "text/x-python",
   "name": "python",
   "nbconvert_exporter": "python",
   "pygments_lexer": "ipython3",
   "version": "3.11.8"
  }
 },
 "nbformat": 4,
 "nbformat_minor": 2
}
