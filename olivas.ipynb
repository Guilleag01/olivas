{
 "cells": [
  {
   "cell_type": "code",
   "execution_count": null,
   "metadata": {},
   "outputs": [],
   "source": [
    "%pip install scipy\n",
    "from math import ceil\n",
    "from scipy.optimize import minimize"
   ]
  },
  {
   "cell_type": "markdown",
   "metadata": {},
   "source": [
    "Declaracion de variables"
   ]
  },
  {
   "cell_type": "code",
   "execution_count": null,
   "metadata": {},
   "outputs": [],
   "source": [
    "# DATOS GENERALES\n",
    "total_campaña = 25000 # Kg\n",
    "total_aceite = 18000 # L\n",
    "\n",
    "# PERSONAL\n",
    "capacidad_recogida = 495 # Kg/persona-dia\n",
    "sueldo = 120 # €/persona-dia\n",
    "alojamiento = 96 # €/dia-habitacion \n",
    "manutencion = 54 # €/persona-dia\n",
    "\n",
    "# GASTOS FIJOS\n",
    "gastos_fijos = 2600 # €/dia\n",
    "\n",
    "# INSTALACIONES DEL TRUJAL\n",
    "capacidad_prensa = 1200 # Kg/dia\n",
    "capacidad_embotelladora = 1920 # L/dia\n",
    "\n",
    "# EXTRAS\n",
    "num_prensas = 1\n",
    "num_embotelladoras = 1\n",
    "max_prensas = 5\n",
    "max_embotelladoras = 6\n",
    "prensa_adicional = 8000 # €/campaña\n",
    "embotelladora_adicional = 9600 # €/campaña\n",
    "personas_maquina = 2\n",
    "max_personas = 10"
   ]
  },
  {
   "cell_type": "markdown",
   "metadata": {},
   "source": [
    "Funcion a optimizar"
   ]
  },
  {
   "cell_type": "code",
   "execution_count": null,
   "metadata": {},
   "outputs": [],
   "source": [
    "def opt_func(x: list[int]) -> tuple[float, float]: # (coste, plazo)\n",
    "    personas = int(x[0])\n",
    "    prensas = int(x[1])\n",
    "    embotelladoras = int(x[2])\n",
    "\n",
    "    # RECOGIDA\n",
    "    dias_recogida = ceil(total_campaña / (personas * capacidad_recogida))\n",
    "\n",
    "    # PRENSADO\n",
    "    dias_prensado = ceil(total_campaña / ((1 + prensas) * capacidad_prensa))\n",
    "\n",
    "    # EMBOTELLADO\n",
    "    dias_embotellado = ceil(total_aceite / ((1 + embotelladoras) * capacidad_embotelladora))\n",
    "\n",
    "    plazo = dias_recogida + dias_prensado + dias_embotellado\n",
    "    coste_maquinas = prensas * prensa_adicional + embotelladoras * embotelladora_adicional\n",
    "    gasto_personal =  plazo * (sueldo * personas + ceil(personas / 2) * alojamiento + manutencion * personas)\n",
    "    coste = gasto_personal + coste_maquinas + gastos_fijos * plazo\n",
    "\n",
    "    return (coste, plazo)\n"
   ]
  },
  {
   "cell_type": "markdown",
   "metadata": {},
   "source": [
    "Limitaciones"
   ]
  },
  {
   "cell_type": "code",
   "execution_count": null,
   "metadata": {},
   "outputs": [],
   "source": [
    "# Constraints\n",
    "def const1(x: list[int]) -> float:\n",
    "    return max_personas - x[0]\n",
    "\n",
    "def const2(x: list[int]) -> float:\n",
    "    return max_prensas - (x[1] + 1) \n",
    "\n",
    "def const3(x: list[int]) -> float:\n",
    "    return max_embotelladoras - (x[2] + 1)\n",
    "\n",
    "def const4(x: list[int]) -> float:\n",
    "    if x[1] + 1 == max_prensas and x[0] >= (x[1] + 1) * personas_maquina:\n",
    "        return 0\n",
    "    if x[0] > ((x[1] + 1) * personas_maquina) + (personas_maquina - 1) or x[0] < (x[1] + 1) * personas_maquina:\n",
    "        return -1\n",
    "    \n",
    "    return 0\n",
    "\n",
    "def const5(x: list[int]) -> float:\n",
    "    if x[2] + 1 == max_embotelladoras and x[0] >= (x[2] + 1) * personas_maquina:\n",
    "        return 0\n",
    "    if x[0] > ((x[2] + 1) * personas_maquina) + (personas_maquina - 1) or x[0] < (x[2] + 1) * personas_maquina:\n",
    "        return -1\n",
    "    \n",
    "    return 0\n",
    "\n",
    "con1: dict = {'type': 'ineq', 'fun': const1}\n",
    "con2: dict = {'type': 'ineq', 'fun': const2}\n",
    "con3: dict = {'type': 'ineq', 'fun': const3}\n",
    "con4: dict = {'type': 'eq', 'fun': const4}\n",
    "con5: dict = {'type': 'eq', 'fun': const5}\n",
    "\n",
    "cons: list[dict] = [con1, con2, con3, con4, con5]"
   ]
  },
  {
   "cell_type": "markdown",
   "metadata": {},
   "source": [
    "Optimizacion y resultados"
   ]
  },
  {
   "cell_type": "code",
   "execution_count": null,
   "metadata": {},
   "outputs": [],
   "source": [
    "def check_consts(consts: list[dict], x) -> bool:\n",
    "    for const in consts:\n",
    "        if const['type'] == 'eq':\n",
    "            if const['fun'](x) != 0:\n",
    "                return False\n",
    "        elif const['type'] == 'ineq':\n",
    "            if const['fun'](x) < 0:\n",
    "                return False\n",
    "    return True"
   ]
  },
  {
   "cell_type": "code",
   "execution_count": null,
   "metadata": {},
   "outputs": [],
   "source": [
    "# Busqueda mediante fuerza bruta\n",
    "\n",
    "min_coste = float(\"inf\")\n",
    "plazo = 0\n",
    "personas = 0\n",
    "prensas = 0\n",
    "embotelladoras = 0\n",
    "data = []\n",
    "for i in range(1, max_personas + 1):\n",
    "    for j in range(0, max_prensas + 1):\n",
    "        for k in range(0, max_embotelladoras + 1):\n",
    "            x = [i, j , k]\n",
    "            if check_consts(cons, x):\n",
    "                (c, p) = opt_func(x)\n",
    "                data.append([i, j, k, c, p])\n",
    "                if c < min_coste or (c == min_coste and p < plazo):\n",
    "                    min_coste = c\n",
    "                    plazo = p\n",
    "                    personas = i\n",
    "                    prensas = j\n",
    "                    embotelladoras = k\n",
    "            \n",
    "\n",
    "print(\"Se relizará en \" + str(plazo) + \" dias costando \" + str(min_coste) + \" €\")\n",
    "print(\"Se contratarán \" + str(personas) + \" personas y se utilizarán \" + str(prensas) + \" prensas extra y \" + str(embotelladoras) + \" embotelladoras extra\")\n"
   ]
  },
  {
   "cell_type": "code",
   "execution_count": null,
   "metadata": {},
   "outputs": [],
   "source": [
    "%pip install plotly pandas nbformat\n",
    "import plotly.express as px\n",
    "import pandas as pd\n"
   ]
  },
  {
   "cell_type": "code",
   "execution_count": null,
   "metadata": {},
   "outputs": [],
   "source": [
    "df = pd.DataFrame(data, columns=[\"Personas\", \"Prensas\", \"Embotelladoras\", \"Coste\", \"Plazo\"])\n",
    "df"
   ]
  },
  {
   "cell_type": "code",
   "execution_count": null,
   "metadata": {},
   "outputs": [],
   "source": [
    "fig = px.scatter_3d(df, x='Personas', y='Prensas', z='Embotelladoras', color='Coste')\n",
    "fig.show()"
   ]
  }
 ],
 "metadata": {
  "kernelspec": {
   "display_name": ".env",
   "language": "python",
   "name": "python3"
  },
  "language_info": {
   "codemirror_mode": {
    "name": "ipython",
    "version": 3
   },
   "file_extension": ".py",
   "mimetype": "text/x-python",
   "name": "python",
   "nbconvert_exporter": "python",
   "pygments_lexer": "ipython3",
   "version": "3.12.3"
  }
 },
 "nbformat": 4,
 "nbformat_minor": 2
}
