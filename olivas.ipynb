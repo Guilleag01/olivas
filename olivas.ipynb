{
 "cells": [
  {
   "cell_type": "code",
   "execution_count": 1,
   "metadata": {},
   "outputs": [],
   "source": [
    "%pip install scipy plotly pandas\n",
    "from math import ceil\n",
    "from scipy.optimize import minimize"
   ]
  },
  {
   "cell_type": "markdown",
   "metadata": {},
   "source": [
    "Declaracion de variables"
   ]
  },
  {
   "cell_type": "code",
   "execution_count": 2,
   "metadata": {},
   "outputs": [],
   "source": [
    "# DATOS GENERALES\n",
    "total_campaña = 25000 # Kg\n",
    "total_aceite = 18000 # L\n",
    "\n",
    "# PERSONAL\n",
    "capacidad_recogida = 495 # Kg/persona-dia\n",
    "sueldo = 120 # €/persona-dia\n",
    "alojamiento = 96 # €/dia-habitacion \n",
    "manutencion = 54 # €/persona-dia\n",
    "\n",
    "# GASTOS FIJOS\n",
    "gastos_fijos = 2600 # €/dia\n",
    "\n",
    "# INSTALACIONES DEL TRUJAL\n",
    "capacidad_prensa = 1200 # Kg/dia\n",
    "capacidad_embotelladora = 1920 # L/dia\n",
    "\n",
    "# EXTRAS\n",
    "num_prensas = 1\n",
    "num_embotelladoras = 1\n",
    "max_prensas = 5\n",
    "max_embotelladoras = 6\n",
    "prensa_adicional = 8000 # €/campaña\n",
    "embotelladora_adicional = 9600 # €/campaña\n",
    "personas_maquina = 2\n",
    "max_personas = 10"
   ]
  },
  {
   "cell_type": "code",
   "execution_count": 3,
   "metadata": {},
   "outputs": [],
   "source": [
    "# ## ANDER\n",
    "# # DATOS GENERALES\n",
    "# total_campaña = 30000 # Kg\n",
    "# total_aceite = 21600 # L\n",
    "\n",
    "# # PERSONAL\n",
    "# capacidad_recogida = 495 # Kg/persona-dia\n",
    "# sueldo = 100 # €/persona-dia\n",
    "# alojamiento = 80 # €/dia-habitacion \n",
    "# manutencion = 45 # €/persona-dia\n",
    "\n",
    "# # GASTOS FIJOS\n",
    "# gastos_fijos = 1800 # €/dia\n",
    "\n",
    "# # INSTALACIONES DEL TRUJAL\n",
    "# capacidad_prensa = 1350 # Kg/dia\n",
    "# capacidad_embotelladora = 2160 # L/dia\n",
    "\n",
    "# # EXTRAS\n",
    "# num_prensas = 1\n",
    "# num_embotelladoras = 1\n",
    "# max_prensas = 5\n",
    "# max_embotelladoras = 3\n",
    "# prensa_adicional = 11000 # €/campaña\n",
    "# embotelladora_adicional = 13200 # €/campaña\n",
    "# personas_maquina = 2\n",
    "# max_personas = 10"
   ]
  },
  {
   "cell_type": "markdown",
   "metadata": {},
   "source": [
    "Funcion a optimizar"
   ]
  },
  {
   "cell_type": "code",
   "execution_count": 4,
   "metadata": {},
   "outputs": [],
   "source": [
    "def opt_func(x: list[int]) -> tuple[float, float]: # (coste, plazo)\n",
    "    personas = int(x[0])\n",
    "    prensas = int(x[1])\n",
    "    embotelladoras = int(x[2])\n",
    "\n",
    "    # RECOGIDA\n",
    "    dias_recogida = ceil(total_campaña / (personas * capacidad_recogida))\n",
    "\n",
    "    # PRENSADO\n",
    "    dias_prensado = ceil(total_campaña / ((1 + prensas) * capacidad_prensa))\n",
    "\n",
    "    # EMBOTELLADO\n",
    "    dias_embotellado = ceil(total_aceite / ((1 + embotelladoras) * capacidad_embotelladora))\n",
    "\n",
    "    plazo = dias_recogida + dias_prensado + dias_embotellado\n",
    "    coste_maquinas = prensas * prensa_adicional + embotelladoras * embotelladora_adicional\n",
    "    gasto_personal =  plazo * (sueldo * personas + ceil(personas / 2) * alojamiento + manutencion * personas)\n",
    "    coste = gasto_personal + coste_maquinas + gastos_fijos * plazo\n",
    "\n",
    "    return (coste, plazo)\n"
   ]
  },
  {
   "cell_type": "markdown",
   "metadata": {},
   "source": [
    "Limitaciones"
   ]
  },
  {
   "cell_type": "code",
   "execution_count": 5,
   "metadata": {},
   "outputs": [],
   "source": [
    "# Constraints\n",
    "def const1(x: list[int]) -> float:\n",
    "    return max_personas - x[0]\n",
    "\n",
    "def const2(x: list[int]) -> float:\n",
    "    return max_prensas - (x[1] + 1) \n",
    "\n",
    "def const3(x: list[int]) -> float:\n",
    "    return max_embotelladoras - (x[2] + 1)\n",
    "\n",
    "def const4(x: list[int]) -> float:\n",
    "    if x[1] + 1 == max_prensas and x[0] >= (x[1] + 1) * personas_maquina:\n",
    "        return 0\n",
    "    if x[0] > ((x[1] + 1) * personas_maquina) + (personas_maquina - 1) or x[0] < (x[1] + 1) * personas_maquina:\n",
    "        return -1\n",
    "    \n",
    "    return 0\n",
    "\n",
    "def const5(x: list[int]) -> float:\n",
    "    if x[2] + 1 == max_embotelladoras and x[0] >= (x[2] + 1) * personas_maquina:\n",
    "        return 0\n",
    "    if x[0] > ((x[2] + 1) * personas_maquina) + (personas_maquina - 1) or x[0] < (x[2] + 1) * personas_maquina:\n",
    "        return -1\n",
    "    \n",
    "    return 0\n",
    "\n",
    "con1: dict = {'type': 'ineq', 'fun': const1}\n",
    "con2: dict = {'type': 'ineq', 'fun': const2}\n",
    "con3: dict = {'type': 'ineq', 'fun': const3}\n",
    "con4: dict = {'type': 'eq', 'fun': const4}\n",
    "con5: dict = {'type': 'eq', 'fun': const5}\n",
    "\n",
    "cons: list[dict] = [con1, con2, con3, con4, con5]"
   ]
  },
  {
   "cell_type": "markdown",
   "metadata": {},
   "source": [
    "Optimizacion y resultados"
   ]
  },
  {
   "cell_type": "code",
   "execution_count": 6,
   "metadata": {},
   "outputs": [],
   "source": [
    "def check_consts(consts: list[dict], x) -> bool:\n",
    "    for const in consts:\n",
    "        if const['type'] == 'eq':\n",
    "            if const['fun'](x) != 0:\n",
    "                return False\n",
    "        elif const['type'] == 'ineq':\n",
    "            if const['fun'](x) < 0:\n",
    "                return False\n",
    "    return True"
   ]
  },
  {
   "cell_type": "code",
   "execution_count": 7,
   "metadata": {},
   "outputs": [
    {
     "name": "stdout",
     "output_type": "stream",
     "text": [
      "Se relizará en 20 dias costando 113840 €\n",
      "Se contratarán 6 personas y se utilizarán 2 prensas extra y 2 embotelladoras extra\n"
     ]
    }
   ],
   "source": [
    "# Busqueda mediante fuerza bruta\n",
    "\n",
    "min_coste = float(\"inf\")\n",
    "plazo = 0\n",
    "personas = 0\n",
    "prensas = 0\n",
    "embotelladoras = 0\n",
    "data = []\n",
    "for i in range(1, max_personas + 1):\n",
    "    for j in range(0, max_prensas + 1):\n",
    "        for k in range(0, max_embotelladoras + 1):\n",
    "            x = [i, j , k]\n",
    "            if check_consts(cons, x):\n",
    "                (c, p) = opt_func(x)\n",
    "                data.append([i, j, k, c, p])\n",
    "                if c < min_coste or (c == min_coste and p < plazo):\n",
    "                    min_coste = c\n",
    "                    plazo = p\n",
    "                    personas = i\n",
    "                    prensas = j\n",
    "                    embotelladoras = k\n",
    "            \n",
    "\n",
    "print(\"Se relizará en \" + str(plazo) + \" dias costando \" + str(min_coste) + \" €\")\n",
    "print(\"Se contratarán \" + str(personas) + \" personas y se utilizarán \" + str(prensas) + \" prensas extra y \" + str(embotelladoras) + \" embotelladoras extra\")\n"
   ]
  },
  {
   "cell_type": "code",
   "execution_count": 8,
   "metadata": {},
   "outputs": [],
   "source": [
    "import plotly.express as px\n",
    "import pandas as pd\n"
   ]
  },
  {
   "cell_type": "code",
   "execution_count": 9,
   "metadata": {},
   "outputs": [
    {
     "data": {
      "text/html": [
       "<div>\n",
       "<style scoped>\n",
       "    .dataframe tbody tr th:only-of-type {\n",
       "        vertical-align: middle;\n",
       "    }\n",
       "\n",
       "    .dataframe tbody tr th {\n",
       "        vertical-align: top;\n",
       "    }\n",
       "\n",
       "    .dataframe thead th {\n",
       "        text-align: right;\n",
       "    }\n",
       "</style>\n",
       "<table border=\"1\" class=\"dataframe\">\n",
       "  <thead>\n",
       "    <tr style=\"text-align: right;\">\n",
       "      <th></th>\n",
       "      <th>Personas</th>\n",
       "      <th>Prensas</th>\n",
       "      <th>Embotelladoras</th>\n",
       "      <th>Coste</th>\n",
       "      <th>Plazo</th>\n",
       "    </tr>\n",
       "  </thead>\n",
       "  <tbody>\n",
       "    <tr>\n",
       "      <th>0</th>\n",
       "      <td>2</td>\n",
       "      <td>0</td>\n",
       "      <td>0</td>\n",
       "      <td>173508</td>\n",
       "      <td>57</td>\n",
       "    </tr>\n",
       "    <tr>\n",
       "      <th>1</th>\n",
       "      <td>3</td>\n",
       "      <td>0</td>\n",
       "      <td>0</td>\n",
       "      <td>159072</td>\n",
       "      <td>48</td>\n",
       "    </tr>\n",
       "    <tr>\n",
       "      <th>2</th>\n",
       "      <td>4</td>\n",
       "      <td>1</td>\n",
       "      <td>1</td>\n",
       "      <td>118752</td>\n",
       "      <td>29</td>\n",
       "    </tr>\n",
       "    <tr>\n",
       "      <th>3</th>\n",
       "      <td>5</td>\n",
       "      <td>1</td>\n",
       "      <td>1</td>\n",
       "      <td>119066</td>\n",
       "      <td>27</td>\n",
       "    </tr>\n",
       "    <tr>\n",
       "      <th>4</th>\n",
       "      <td>6</td>\n",
       "      <td>2</td>\n",
       "      <td>2</td>\n",
       "      <td>113840</td>\n",
       "      <td>20</td>\n",
       "    </tr>\n",
       "    <tr>\n",
       "      <th>5</th>\n",
       "      <td>7</td>\n",
       "      <td>2</td>\n",
       "      <td>2</td>\n",
       "      <td>115038</td>\n",
       "      <td>19</td>\n",
       "    </tr>\n",
       "    <tr>\n",
       "      <th>6</th>\n",
       "      <td>8</td>\n",
       "      <td>3</td>\n",
       "      <td>3</td>\n",
       "      <td>122816</td>\n",
       "      <td>16</td>\n",
       "    </tr>\n",
       "    <tr>\n",
       "      <th>7</th>\n",
       "      <td>9</td>\n",
       "      <td>3</td>\n",
       "      <td>3</td>\n",
       "      <td>122490</td>\n",
       "      <td>15</td>\n",
       "    </tr>\n",
       "    <tr>\n",
       "      <th>8</th>\n",
       "      <td>10</td>\n",
       "      <td>4</td>\n",
       "      <td>4</td>\n",
       "      <td>133060</td>\n",
       "      <td>13</td>\n",
       "    </tr>\n",
       "  </tbody>\n",
       "</table>\n",
       "</div>"
      ],
      "text/plain": [
       "   Personas  Prensas  Embotelladoras   Coste  Plazo\n",
       "0         2        0               0  173508     57\n",
       "1         3        0               0  159072     48\n",
       "2         4        1               1  118752     29\n",
       "3         5        1               1  119066     27\n",
       "4         6        2               2  113840     20\n",
       "5         7        2               2  115038     19\n",
       "6         8        3               3  122816     16\n",
       "7         9        3               3  122490     15\n",
       "8        10        4               4  133060     13"
      ]
     },
     "execution_count": 9,
     "metadata": {},
     "output_type": "execute_result"
    }
   ],
   "source": [
    "df = pd.DataFrame(data, columns=[\"Personas\", \"Prensas\", \"Embotelladoras\", \"Coste\", \"Plazo\"])\n",
    "df"
   ]
  },
  {
   "cell_type": "code",
   "execution_count": 10,
   "metadata": {},
   "outputs": [
    {
     "ename": "ValueError",
     "evalue": "Mime type rendering requires nbformat>=4.2.0 but it is not installed",
     "output_type": "error",
     "traceback": [
      "\u001b[0;31m---------------------------------------------------------------------------\u001b[0m",
      "\u001b[0;31mValueError\u001b[0m                                Traceback (most recent call last)",
      "Cell \u001b[0;32mIn[10], line 2\u001b[0m\n\u001b[1;32m      1\u001b[0m fig \u001b[38;5;241m=\u001b[39m px\u001b[38;5;241m.\u001b[39mscatter_3d(df, x\u001b[38;5;241m=\u001b[39m\u001b[38;5;124m'\u001b[39m\u001b[38;5;124mPersonas\u001b[39m\u001b[38;5;124m'\u001b[39m, y\u001b[38;5;241m=\u001b[39m\u001b[38;5;124m'\u001b[39m\u001b[38;5;124mPrensas\u001b[39m\u001b[38;5;124m'\u001b[39m, z\u001b[38;5;241m=\u001b[39m\u001b[38;5;124m'\u001b[39m\u001b[38;5;124mEmbotelladoras\u001b[39m\u001b[38;5;124m'\u001b[39m, color\u001b[38;5;241m=\u001b[39m\u001b[38;5;124m'\u001b[39m\u001b[38;5;124mCoste\u001b[39m\u001b[38;5;124m'\u001b[39m)\n\u001b[0;32m----> 2\u001b[0m \u001b[43mfig\u001b[49m\u001b[38;5;241;43m.\u001b[39;49m\u001b[43mshow\u001b[49m\u001b[43m(\u001b[49m\u001b[43m)\u001b[49m\n",
      "File \u001b[0;32m~/Documentos/Python/olivas/.env/lib/python3.12/site-packages/plotly/basedatatypes.py:3410\u001b[0m, in \u001b[0;36mBaseFigure.show\u001b[0;34m(self, *args, **kwargs)\u001b[0m\n\u001b[1;32m   3377\u001b[0m \u001b[38;5;250m\u001b[39m\u001b[38;5;124;03m\"\"\"\u001b[39;00m\n\u001b[1;32m   3378\u001b[0m \u001b[38;5;124;03mShow a figure using either the default renderer(s) or the renderer(s)\u001b[39;00m\n\u001b[1;32m   3379\u001b[0m \u001b[38;5;124;03mspecified by the renderer argument\u001b[39;00m\n\u001b[0;32m   (...)\u001b[0m\n\u001b[1;32m   3406\u001b[0m \u001b[38;5;124;03mNone\u001b[39;00m\n\u001b[1;32m   3407\u001b[0m \u001b[38;5;124;03m\"\"\"\u001b[39;00m\n\u001b[1;32m   3408\u001b[0m \u001b[38;5;28;01mimport\u001b[39;00m \u001b[38;5;21;01mplotly\u001b[39;00m\u001b[38;5;21;01m.\u001b[39;00m\u001b[38;5;21;01mio\u001b[39;00m \u001b[38;5;28;01mas\u001b[39;00m \u001b[38;5;21;01mpio\u001b[39;00m\n\u001b[0;32m-> 3410\u001b[0m \u001b[38;5;28;01mreturn\u001b[39;00m \u001b[43mpio\u001b[49m\u001b[38;5;241;43m.\u001b[39;49m\u001b[43mshow\u001b[49m\u001b[43m(\u001b[49m\u001b[38;5;28;43mself\u001b[39;49m\u001b[43m,\u001b[49m\u001b[43m \u001b[49m\u001b[38;5;241;43m*\u001b[39;49m\u001b[43margs\u001b[49m\u001b[43m,\u001b[49m\u001b[43m \u001b[49m\u001b[38;5;241;43m*\u001b[39;49m\u001b[38;5;241;43m*\u001b[39;49m\u001b[43mkwargs\u001b[49m\u001b[43m)\u001b[49m\n",
      "File \u001b[0;32m~/Documentos/Python/olivas/.env/lib/python3.12/site-packages/plotly/io/_renderers.py:394\u001b[0m, in \u001b[0;36mshow\u001b[0;34m(fig, renderer, validate, **kwargs)\u001b[0m\n\u001b[1;32m    389\u001b[0m         \u001b[38;5;28;01mraise\u001b[39;00m \u001b[38;5;167;01mValueError\u001b[39;00m(\n\u001b[1;32m    390\u001b[0m             \u001b[38;5;124m\"\u001b[39m\u001b[38;5;124mMime type rendering requires ipython but it is not installed\u001b[39m\u001b[38;5;124m\"\u001b[39m\n\u001b[1;32m    391\u001b[0m         )\n\u001b[1;32m    393\u001b[0m     \u001b[38;5;28;01mif\u001b[39;00m \u001b[38;5;129;01mnot\u001b[39;00m nbformat \u001b[38;5;129;01mor\u001b[39;00m Version(nbformat\u001b[38;5;241m.\u001b[39m__version__) \u001b[38;5;241m<\u001b[39m Version(\u001b[38;5;124m\"\u001b[39m\u001b[38;5;124m4.2.0\u001b[39m\u001b[38;5;124m\"\u001b[39m):\n\u001b[0;32m--> 394\u001b[0m         \u001b[38;5;28;01mraise\u001b[39;00m \u001b[38;5;167;01mValueError\u001b[39;00m(\n\u001b[1;32m    395\u001b[0m             \u001b[38;5;124m\"\u001b[39m\u001b[38;5;124mMime type rendering requires nbformat>=4.2.0 but it is not installed\u001b[39m\u001b[38;5;124m\"\u001b[39m\n\u001b[1;32m    396\u001b[0m         )\n\u001b[1;32m    398\u001b[0m     ipython_display\u001b[38;5;241m.\u001b[39mdisplay(bundle, raw\u001b[38;5;241m=\u001b[39m\u001b[38;5;28;01mTrue\u001b[39;00m)\n\u001b[1;32m    400\u001b[0m \u001b[38;5;66;03m# external renderers\u001b[39;00m\n",
      "\u001b[0;31mValueError\u001b[0m: Mime type rendering requires nbformat>=4.2.0 but it is not installed"
     ]
    }
   ],
   "source": [
    "fig = px.scatter_3d(df, x='Personas', y='Prensas', z='Embotelladoras', color='Coste')\n",
    "fig.show()"
   ]
  }
 ],
 "metadata": {
  "kernelspec": {
   "display_name": ".env",
   "language": "python",
   "name": "python3"
  },
  "language_info": {
   "codemirror_mode": {
    "name": "ipython",
    "version": 3
   },
   "file_extension": ".py",
   "mimetype": "text/x-python",
   "name": "python",
   "nbconvert_exporter": "python",
   "pygments_lexer": "ipython3",
   "version": "3.12.3"
  }
 },
 "nbformat": 4,
 "nbformat_minor": 2
}
