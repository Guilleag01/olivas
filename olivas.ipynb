{
 "cells": [
  {
   "cell_type": "code",
   "execution_count": null,
   "metadata": {},
   "outputs": [],
   "source": [
    "from math import ceil\n",
    "from scipy.optimize import minimize"
   ]
  },
  {
   "cell_type": "markdown",
   "metadata": {},
   "source": [
    "Declaracion de variables"
   ]
  },
  {
   "cell_type": "code",
   "execution_count": null,
   "metadata": {},
   "outputs": [],
   "source": []
  },
  {
   "cell_type": "code",
   "execution_count": null,
   "metadata": {},
   "outputs": [],
   "source": [
    "# DATOS GENERALES\n",
    "total_campaña: int = 25000 # Kg\n",
    "total_aceite:  int = 18000 # L\n",
    "\n",
    "# PERSONAL\n",
    "capacidad_recogida:  int = 495 # Kg/persona-dia\n",
    "sueldo:  int = 120 # €/persona-dia\n",
    "alojamiento:  int = 96 # €/dia-habitacion \n",
    "manutencion:  int = 54 # €/persona-dia\n",
    "\n",
    "# GASTOS FIJOS\n",
    "gastos_fijos:  int = 2600 # €/dia\n",
    "\n",
    "# INSTALACIONES DEL TRUJAL\n",
    "capacidad_prensa:  int = 1200 # Kg/dia\n",
    "capacidad_embotelladora:  int = 1920 # L/dia\n",
    "\n",
    "# EXTRAS\n",
    "num_prensas:  int = 1\n",
    "num_embotelladoras:  int = 1\n",
    "max_prensas:  int = 5\n",
    "max_embotelladoras:  int = 6\n",
    "prensa_adicional:  int = 8000 # €/campaña\n",
    "embotelladora_adicional:  int = 9600 # €/campaña\n",
    "personas_maquina:  int = 2\n",
    "max_personas:  int = 10"
   ]
  },
  {
   "cell_type": "markdown",
   "metadata": {},
   "source": [
    "Funcion a optimizar"
   ]
  },
  {
   "cell_type": "code",
   "execution_count": null,
   "metadata": {},
   "outputs": [],
   "source": [
    "def opt_func(x: list[int]) -> tuple[float, float]: # (coste, plazo)\n",
    "    personas: int = int(x[0])\n",
    "    prensas: int = int(x[1])\n",
    "    embotelladoras: int = int(x[2])\n",
    "\n",
    "    # RECOGIDA\n",
    "    dias_recogida = ceil(total_campaña / (personas + capacidad_recogida))\n",
    "    gastos_recogida = dias_recogida * (sueldo * personas + (ceil(personas / 2) * 2) + manutencion * personas)\n",
    "\n",
    "    # PRENSADO\n",
    "    dias_prensado = ceil(total_aceite / ((1 + prensas) * capacidad_prensa))\n",
    "    gastos_prensado = dias_prensado * (sueldo * personas + (ceil(personas / 2) * 2) + manutencion * personas) + (prensas - 1) * prensa_adicional\n",
    "\n",
    "    # EMBOTELLADO\n",
    "    dias_embotellado = ceil(total_aceite / ((1 + embotelladoras) * capacidad_embotelladora))\n",
    "    gastos_embotellado = dias_embotellado * (sueldo * personas + (ceil(personas / 2) * 2) + manutencion * personas) + (embotelladoras - 1) * embotelladora_adicional\n",
    "\n",
    "    plazo = dias_recogida + dias_prensado + dias_embotellado\n",
    "\n",
    "    # EXTRAS\n",
    "    gastos_extra = gastos_fijos * plazo\n",
    "\n",
    "    coste = gastos_recogida + gastos_prensado + gastos_embotellado + gastos_extra\n",
    "\n",
    "    return (coste, plazo)\n"
   ]
  },
  {
   "cell_type": "markdown",
   "metadata": {},
   "source": [
    "Limitaciones"
   ]
  },
  {
   "cell_type": "code",
   "execution_count": null,
   "metadata": {},
   "outputs": [],
   "source": [
    "# Constraints\n",
    "def const1(x: list[int]) -> float:\n",
    "    return max_personas - x[0]\n",
    "\n",
    "def const2(x: list[int]) -> float:\n",
    "    return max_prensas - (x[1] + 1) \n",
    "\n",
    "def const3(x: list[int]) -> float:\n",
    "    return max_embotelladoras - (x[2] + 1)\n",
    "\n",
    "def const4(x: list[int]) -> float:\n",
    "    if x[1] + 1 == max_prensas and x[0] >= (x[1] + 1) * personas_maquina:\n",
    "        return 0\n",
    "    if x[0] > ((x[1] + 1) * personas_maquina) + (personas_maquina - 1) or x[0] < (x[1] + 1) * personas_maquina:\n",
    "        return -1\n",
    "    \n",
    "    return 0\n",
    "\n",
    "def const5(x: list[int]) -> float:\n",
    "    if x[2] + 1 == max_embotelladoras and x[0] >= (x[2] + 1) * personas_maquina:\n",
    "        return 0\n",
    "    if x[0] > ((x[2] + 1) * personas_maquina) + (personas_maquina - 1) or x[0] < (x[2] + 1) * personas_maquina:\n",
    "        return -1\n",
    "    \n",
    "    return 0\n",
    "\n",
    "con1: dict = {'type': 'ineq', 'fun': const1}\n",
    "con2: dict = {'type': 'ineq', 'fun': const2}\n",
    "con3: dict = {'type': 'ineq', 'fun': const3}\n",
    "con4: dict = {'type': 'ineq', 'fun': const4}\n",
    "con5: dict = {'type': 'ineq', 'fun': const5}\n",
    "\n",
    "cons: list[dict] = [con1, con2, con3, con4, con5]\n",
    "\n",
    "# bnds = [(1.0, max_personas), (0.0, max_prensas - 1), (0.0, max_embotelladoras - 1)]\n"
   ]
  },
  {
   "cell_type": "markdown",
   "metadata": {},
   "source": [
    "Optimizacion y resultados"
   ]
  },
  {
   "cell_type": "code",
   "execution_count": null,
   "metadata": {},
   "outputs": [],
   "source": [
    "def check_consts(consts: list[dict], x) -> bool:\n",
    "    for const in consts:\n",
    "        if const['type'] == 'eq':\n",
    "            if const['fun'](x) != 0:\n",
    "                return False\n",
    "        elif const['type'] == 'ineq':\n",
    "            if const['fun'](x) < 0:\n",
    "                return False\n",
    "    return True"
   ]
  },
  {
   "cell_type": "code",
   "execution_count": null,
   "metadata": {},
   "outputs": [],
   "source": [
    "# Busqueda mediante fuerza bruta\n",
    "\n",
    "min_coste = float(\"inf\")\n",
    "plazo = 0\n",
    "personas = 0\n",
    "prensas = 0\n",
    "embotelladoras = 0\n",
    "data = []\n",
    "for i in range(1, max_personas + 1):\n",
    "    for j in range(0, max_prensas + 1):\n",
    "        for k in range(0, max_embotelladoras + 1):\n",
    "            x = [i, j , k]\n",
    "            if check_consts(cons, x):\n",
    "                (c, p) = opt_func(x)\n",
    "                data.append([i, j, k, c])\n",
    "                if c < min_coste or (c == min_coste and p < plazo):\n",
    "                    min_coste = c\n",
    "                    plazo = p\n",
    "                    personas = i\n",
    "                    prensas = j\n",
    "                    embotelladoras = k\n",
    "            \n",
    "\n",
    "print(\"Se relizará en \" + str(plazo) + \" dias costando \" + str(min_coste) + \" €\")\n",
    "print(\"Se contratarán \" + str(personas) + \" personas y se utilizarán \" + str(prensas) + \" prensas extra y \" + str(embotelladoras) + \" embotelladoras extra\")\n"
   ]
  },
  {
   "cell_type": "code",
   "execution_count": null,
   "metadata": {},
   "outputs": [],
   "source": [
    "import plotly\n",
    "import plotly.express as px\n",
    "import pandas as pd\n"
   ]
  },
  {
   "cell_type": "code",
   "execution_count": null,
   "metadata": {},
   "outputs": [],
   "source": [
    "df = pd.DataFrame(data, columns=[\"Personas\", \"Prensas\", \"Embotelladoras\", \"Coste\"])\n",
    "fig = px.scatter_3d(df, x='Personas', y='Prensas', z='Embotelladoras', color='Coste')\n",
    "fig.show()"
   ]
  }
 ],
 "metadata": {
  "kernelspec": {
   "display_name": ".env",
   "language": "python",
   "name": "python3"
  },
  "language_info": {
   "codemirror_mode": {
    "name": "ipython",
    "version": 3
   },
   "file_extension": ".py",
   "mimetype": "text/x-python",
   "name": "python",
   "nbconvert_exporter": "python",
   "pygments_lexer": "ipython3",
   "version": "3.11.8"
  }
 },
 "nbformat": 4,
 "nbformat_minor": 2
}
